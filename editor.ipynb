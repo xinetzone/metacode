{
 "cells": [
  {
   "cell_type": "code",
   "execution_count": null,
   "metadata": {
    "ExecuteTime": {
     "end_time": "2021-03-20T07:12:30.740669Z",
     "start_time": "2021-03-20T07:12:30.726676Z"
    }
   },
   "outputs": [],
   "source": [
    "import os\n",
    "import os.path\n",
    "import random\n",
    "import string\n",
    "\n",
    "import cherrypy\n",
    "\n",
    "from app.web import TemplateHtml\n",
    "\n",
    "class StringGenerator(TemplateHtml):\n",
    "    def __init__(self, template_path, config_path):\n",
    "        super().__init__(template_path, config_path)\n",
    "        \n",
    "    @cherrypy.expose\n",
    "    def index(self):\n",
    "        yield self.encode('utf-8')\n",
    "\n",
    "\n",
    "@cherrypy.expose\n",
    "class StringGeneratorWebService:\n",
    "\n",
    "    @cherrypy.tools.accept(media='text/plain')\n",
    "    def GET(self):\n",
    "        return cherrypy.session.get('mystring')\n",
    "\n",
    "    def POST(self, length=8):\n",
    "        some_string = ''.join(random.sample(string.hexdigits, int(length)))\n",
    "        cherrypy.session['mystring'] = some_string\n",
    "        return some_string\n",
    "\n",
    "    def PUT(self, another_string):\n",
    "        cherrypy.session['mystring'] = another_string\n",
    "\n",
    "    def DELETE(self):\n",
    "        cherrypy.session.pop('mystring', None)\n",
    "\n",
    "\n",
    "if __name__ == '__main__':\n",
    "    conf = {\n",
    "        '/': {\n",
    "            'tools.sessions.on': True,\n",
    "            'tools.staticdir.root': os.path.abspath(os.getcwd())\n",
    "        },\n",
    "        '/generator': {\n",
    "            'request.dispatch': cherrypy.dispatch.MethodDispatcher(),\n",
    "            'tools.response_headers.on': True,\n",
    "            'tools.response_headers.headers': [('Content-Type', 'text/plain')],\n",
    "        },\n",
    "        '/static': {\n",
    "            'tools.staticdir.on': True,\n",
    "            'tools.staticdir.dir': './public'\n",
    "        }\n",
    "    }\n",
    "    webapp = StringGenerator()\n",
    "    webapp.generator = StringGeneratorWebService()\n",
    "    cherrypy.quickstart(webapp, '/', conf)"
   ]
  },
  {
   "cell_type": "code",
   "execution_count": null,
   "metadata": {
    "ExecuteTime": {
     "start_time": "2021-03-20T08:18:52.818Z"
    }
   },
   "outputs": [
    {
     "name": "stderr",
     "output_type": "stream",
     "text": [
      "[20/Mar/2021:16:18:54] ENGINE Listening for SIGTERM.\n",
      "[20/Mar/2021:16:18:54] ENGINE Bus STARTING\n",
      "[20/Mar/2021:16:18:54] ENGINE Set handler for console events.\n",
      "[20/Mar/2021:16:18:54] ENGINE Started monitor thread 'Autoreloader'.\n",
      "[20/Mar/2021:16:18:54] ENGINE Serving on http://192.168.100.191:9999\n",
      "[20/Mar/2021:16:18:54] ENGINE Bus STARTED\n"
     ]
    },
    {
     "name": "stdout",
     "output_type": "stream",
     "text": [
      "192.168.100.222 - - [20/Mar/2021:16:19:01] \"GET /display2 HTTP/1.1\" 200 19586 \"\" \"Mozilla/5.0 (Windows NT 10.0; Win64; x64) AppleWebKit/537.36 (KHTML, like Gecko) Chrome/89.0.4389.90 Safari/537.36 Edg/89.0.774.54\"\n",
      "192.168.100.222 - - [20/Mar/2021:16:19:01] \"GET /favicon.ico HTTP/1.1\" 200 1406 \"http://192.168.100.191:9999/display2\" \"Mozilla/5.0 (Windows NT 10.0; Win64; x64) AppleWebKit/537.36 (KHTML, like Gecko) Chrome/89.0.4389.90 Safari/537.36 Edg/89.0.774.54\"\n",
      "192.168.100.222 - - [20/Mar/2021:16:28:56] \"GET / HTTP/1.1\" 200 560 \"\" \"Mozilla/5.0 (Windows NT 10.0; Win64; x64) AppleWebKit/537.36 (KHTML, like Gecko) Chrome/89.0.4389.90 Safari/537.36 Edg/89.0.774.54\"\n"
     ]
    },
    {
     "name": "stderr",
     "output_type": "stream",
     "text": [
      "[20/Mar/2021:17:01:00] ENGINE Restarting because configs/base-server.conf changed.\n",
      "[20/Mar/2021:17:01:00] ENGINE Stopped thread 'Autoreloader'.\n",
      "[20/Mar/2021:17:01:00] ENGINE Bus STOPPING\n",
      "[20/Mar/2021:17:01:00] ENGINE HTTP Server cherrypy._cpwsgi_server.CPWSGIServer(('192.168.100.191', 9999)) shut down\n",
      "[20/Mar/2021:17:01:00] ENGINE Removed handler for console events.\n",
      "[20/Mar/2021:17:01:00] ENGINE Bus STOPPED\n",
      "[20/Mar/2021:17:01:00] ENGINE Bus EXITING\n",
      "[20/Mar/2021:17:01:00] ENGINE Waiting for child threads to terminate...\n",
      "[20/Mar/2021:17:01:00] ENGINE Bus EXITED\n",
      "[20/Mar/2021:17:01:00] ENGINE Re-spawning C:\\Users\\xinet\\anaconda3\\envs\\ui\\python.exe -m ipykernel_launcher -f C:\\Users\\xinet\\AppData\\Roaming\\jupyter\\runtime\\kernel-ddc085ac-8bdd-4d62-8a03-d8efda77216d.json\n"
     ]
    }
   ],
   "source": [
    "import random\n",
    "import string\n",
    "from io import BytesIO\n",
    "\n",
    "from base64 import b64encode\n",
    "import numpy as np\n",
    "from matplotlib import pyplot as plt\n",
    "import matplotlib\n",
    "matplotlib.use('Agg')\n",
    "import cherrypy\n",
    "\n",
    "from app.web import TemplateHtml\n",
    "\n",
    "class Html(TemplateHtml):\n",
    "    def __init__(self, template_path, config_path):\n",
    "        super().__init__(template_path, config_path)\n",
    "        \n",
    "    @cherrypy.expose\n",
    "    def display2(self):\n",
    "        # Modified from https://gist.github.com/tkf/1299670 by @tkf\n",
    "        d = self.plot()\n",
    "        d = d.decode('utf8')\n",
    "        return f'''<img src=\"data:image/png;base64,{d}\" width=\"640\" height=\"480\" border=\"0\">'''\n",
    "\n",
    "    def plot(self):\n",
    "        image = BytesIO()\n",
    "        x = np.linspace(0, 10)\n",
    "        y = np.sin(x)\n",
    "        plt.plot(x, y)\n",
    "        plt.savefig(image, format='png')\n",
    "        return b64encode(image.getvalue())\n",
    "\n",
    "    @cherrypy.expose\n",
    "    def index(self):\n",
    "        yield self.encode('utf-8')\n",
    "\n",
    "    @cherrypy.expose\n",
    "    def generate(self, length=8):\n",
    "        some_string = ''.join(random.sample(string.hexdigits, int(length)))\n",
    "        cherrypy.session['mystring'] = some_string\n",
    "        yield some_string\n",
    "\n",
    "    @cherrypy.expose\n",
    "    def display(self):\n",
    "        yield cherrypy.session['mystring']\n",
    "\n",
    "template_path = 'templates/form.html'\n",
    "config_path = 'configs/form.toml'\n",
    "config = 'configs/base-server.conf'\n",
    "httpd = Html(template_path, config_path)\n",
    "httpd.quickstart(config=config)"
   ]
  },
  {
   "cell_type": "code",
   "execution_count": 8,
   "metadata": {
    "ExecuteTime": {
     "end_time": "2021-03-20T07:56:55.235156Z",
     "start_time": "2021-03-20T07:56:53.552167Z"
    }
   },
   "outputs": [],
   "source": [
    "import folium\n",
    "import pandas as pd"
   ]
  },
  {
   "cell_type": "code",
   "execution_count": 16,
   "metadata": {
    "ExecuteTime": {
     "end_time": "2021-03-20T08:07:52.991906Z",
     "start_time": "2021-03-20T08:07:52.963838Z"
    },
    "scrolled": true
   },
   "outputs": [
    {
     "data": {
      "text/html": [
       "<div style=\"width:100%;\"><div style=\"position:relative;width:100%;height:0;padding-bottom:60%;\"><span style=\"color:#565656\">Make this Notebook Trusted to load map: File -> Trust Notebook</span><iframe src=\"about:blank\" style=\"position:absolute;width:100%;height:100%;left:0;top:0;border:none !important;\" data-html=%3C%21DOCTYPE%20html%3E%0A%3Chead%3E%20%20%20%20%0A%20%20%20%20%3Cmeta%20http-equiv%3D%22content-type%22%20content%3D%22text/html%3B%20charset%3DUTF-8%22%20/%3E%0A%20%20%20%20%0A%20%20%20%20%20%20%20%20%3Cscript%3E%0A%20%20%20%20%20%20%20%20%20%20%20%20L_NO_TOUCH%20%3D%20false%3B%0A%20%20%20%20%20%20%20%20%20%20%20%20L_DISABLE_3D%20%3D%20false%3B%0A%20%20%20%20%20%20%20%20%3C/script%3E%0A%20%20%20%20%0A%20%20%20%20%3Cstyle%3Ehtml%2C%20body%20%7Bwidth%3A%20100%25%3Bheight%3A%20100%25%3Bmargin%3A%200%3Bpadding%3A%200%3B%7D%3C/style%3E%0A%20%20%20%20%3Cstyle%3E%23map%20%7Bposition%3Aabsolute%3Btop%3A0%3Bbottom%3A0%3Bright%3A0%3Bleft%3A0%3B%7D%3C/style%3E%0A%20%20%20%20%3Cscript%20src%3D%22https%3A//cdn.jsdelivr.net/npm/leaflet%401.6.0/dist/leaflet.js%22%3E%3C/script%3E%0A%20%20%20%20%3Cscript%20src%3D%22https%3A//code.jquery.com/jquery-1.12.4.min.js%22%3E%3C/script%3E%0A%20%20%20%20%3Cscript%20src%3D%22https%3A//maxcdn.bootstrapcdn.com/bootstrap/3.2.0/js/bootstrap.min.js%22%3E%3C/script%3E%0A%20%20%20%20%3Cscript%20src%3D%22https%3A//cdnjs.cloudflare.com/ajax/libs/Leaflet.awesome-markers/2.0.2/leaflet.awesome-markers.js%22%3E%3C/script%3E%0A%20%20%20%20%3Clink%20rel%3D%22stylesheet%22%20href%3D%22https%3A//cdn.jsdelivr.net/npm/leaflet%401.6.0/dist/leaflet.css%22/%3E%0A%20%20%20%20%3Clink%20rel%3D%22stylesheet%22%20href%3D%22https%3A//maxcdn.bootstrapcdn.com/bootstrap/3.2.0/css/bootstrap.min.css%22/%3E%0A%20%20%20%20%3Clink%20rel%3D%22stylesheet%22%20href%3D%22https%3A//maxcdn.bootstrapcdn.com/bootstrap/3.2.0/css/bootstrap-theme.min.css%22/%3E%0A%20%20%20%20%3Clink%20rel%3D%22stylesheet%22%20href%3D%22https%3A//maxcdn.bootstrapcdn.com/font-awesome/4.6.3/css/font-awesome.min.css%22/%3E%0A%20%20%20%20%3Clink%20rel%3D%22stylesheet%22%20href%3D%22https%3A//cdnjs.cloudflare.com/ajax/libs/Leaflet.awesome-markers/2.0.2/leaflet.awesome-markers.css%22/%3E%0A%20%20%20%20%3Clink%20rel%3D%22stylesheet%22%20href%3D%22https%3A//cdn.jsdelivr.net/gh/python-visualization/folium/folium/templates/leaflet.awesome.rotate.min.css%22/%3E%0A%20%20%20%20%0A%20%20%20%20%20%20%20%20%20%20%20%20%3Cmeta%20name%3D%22viewport%22%20content%3D%22width%3Ddevice-width%2C%0A%20%20%20%20%20%20%20%20%20%20%20%20%20%20%20%20initial-scale%3D1.0%2C%20maximum-scale%3D1.0%2C%20user-scalable%3Dno%22%20/%3E%0A%20%20%20%20%20%20%20%20%20%20%20%20%3Cstyle%3E%0A%20%20%20%20%20%20%20%20%20%20%20%20%20%20%20%20%23map_8fc78cbe33d840b189ddc22b3e9d369b%20%7B%0A%20%20%20%20%20%20%20%20%20%20%20%20%20%20%20%20%20%20%20%20position%3A%20relative%3B%0A%20%20%20%20%20%20%20%20%20%20%20%20%20%20%20%20%20%20%20%20width%3A%20100.0%25%3B%0A%20%20%20%20%20%20%20%20%20%20%20%20%20%20%20%20%20%20%20%20height%3A%20100.0%25%3B%0A%20%20%20%20%20%20%20%20%20%20%20%20%20%20%20%20%20%20%20%20left%3A%200.0%25%3B%0A%20%20%20%20%20%20%20%20%20%20%20%20%20%20%20%20%20%20%20%20top%3A%200.0%25%3B%0A%20%20%20%20%20%20%20%20%20%20%20%20%20%20%20%20%7D%0A%20%20%20%20%20%20%20%20%20%20%20%20%3C/style%3E%0A%20%20%20%20%20%20%20%20%0A%3C/head%3E%0A%3Cbody%3E%20%20%20%20%0A%20%20%20%20%0A%20%20%20%20%20%20%20%20%20%20%20%20%3Cdiv%20class%3D%22folium-map%22%20id%3D%22map_8fc78cbe33d840b189ddc22b3e9d369b%22%20%3E%3C/div%3E%0A%20%20%20%20%20%20%20%20%0A%3C/body%3E%0A%3Cscript%3E%20%20%20%20%0A%20%20%20%20%0A%20%20%20%20%20%20%20%20%20%20%20%20var%20map_8fc78cbe33d840b189ddc22b3e9d369b%20%3D%20L.map%28%0A%20%20%20%20%20%20%20%20%20%20%20%20%20%20%20%20%22map_8fc78cbe33d840b189ddc22b3e9d369b%22%2C%0A%20%20%20%20%20%20%20%20%20%20%20%20%20%20%20%20%7B%0A%20%20%20%20%20%20%20%20%20%20%20%20%20%20%20%20%20%20%20%20center%3A%20%5B30.1147%2C%20120.211%5D%2C%0A%20%20%20%20%20%20%20%20%20%20%20%20%20%20%20%20%20%20%20%20crs%3A%20L.CRS.EPSG3857%2C%0A%20%20%20%20%20%20%20%20%20%20%20%20%20%20%20%20%20%20%20%20zoom%3A%2010%2C%0A%20%20%20%20%20%20%20%20%20%20%20%20%20%20%20%20%20%20%20%20zoomControl%3A%20true%2C%0A%20%20%20%20%20%20%20%20%20%20%20%20%20%20%20%20%20%20%20%20preferCanvas%3A%20false%2C%0A%20%20%20%20%20%20%20%20%20%20%20%20%20%20%20%20%7D%0A%20%20%20%20%20%20%20%20%20%20%20%20%29%3B%0A%0A%20%20%20%20%20%20%20%20%20%20%20%20%0A%0A%20%20%20%20%20%20%20%20%0A%20%20%20%20%0A%20%20%20%20%20%20%20%20%20%20%20%20var%20tile_layer_87375a5651054358a7c08e9f31f5ef9d%20%3D%20L.tileLayer%28%0A%20%20%20%20%20%20%20%20%20%20%20%20%20%20%20%20%22https%3A//%7Bs%7D.tile.openstreetmap.org/%7Bz%7D/%7Bx%7D/%7By%7D.png%22%2C%0A%20%20%20%20%20%20%20%20%20%20%20%20%20%20%20%20%7B%22attribution%22%3A%20%22Data%20by%20%5Cu0026copy%3B%20%5Cu003ca%20href%3D%5C%22http%3A//openstreetmap.org%5C%22%5Cu003eOpenStreetMap%5Cu003c/a%5Cu003e%2C%20under%20%5Cu003ca%20href%3D%5C%22http%3A//www.openstreetmap.org/copyright%5C%22%5Cu003eODbL%5Cu003c/a%5Cu003e.%22%2C%20%22detectRetina%22%3A%20false%2C%20%22maxNativeZoom%22%3A%2018%2C%20%22maxZoom%22%3A%2018%2C%20%22minZoom%22%3A%200%2C%20%22noWrap%22%3A%20false%2C%20%22opacity%22%3A%201%2C%20%22subdomains%22%3A%20%22abc%22%2C%20%22tms%22%3A%20false%7D%0A%20%20%20%20%20%20%20%20%20%20%20%20%29.addTo%28map_8fc78cbe33d840b189ddc22b3e9d369b%29%3B%0A%20%20%20%20%20%20%20%20%0A%3C/script%3E onload=\"this.contentDocument.open();this.contentDocument.write(    decodeURIComponent(this.getAttribute('data-html')));this.contentDocument.close();\" allowfullscreen webkitallowfullscreen mozallowfullscreen></iframe></div></div>"
      ],
      "text/plain": [
       "<folium.folium.Map at 0x1f190bf8610>"
      ]
     },
     "execution_count": 16,
     "metadata": {},
     "output_type": "execute_result"
    }
   ],
   "source": [
    "# San Francisco latitude and longitude values\n",
    "latitude = 30.1147\n",
    "longitude = 120.211 \n",
    "\n",
    "# Create map and display it\n",
    "san_map = folium.Map(location=[latitude, longitude], zoom_start=10)\n",
    "\n",
    "# Display the map of San Francisco\n",
    "san_map"
   ]
  },
  {
   "cell_type": "code",
   "execution_count": null,
   "metadata": {},
   "outputs": [],
   "source": []
  }
 ],
 "metadata": {
  "kernelspec": {
   "display_name": "ui",
   "language": "python",
   "name": "ui"
  },
  "language_info": {
   "codemirror_mode": {
    "name": "ipython",
    "version": 3
   },
   "file_extension": ".py",
   "mimetype": "text/x-python",
   "name": "python",
   "nbconvert_exporter": "python",
   "pygments_lexer": "ipython3",
   "version": "3.9.2"
  },
  "toc": {
   "base_numbering": 1,
   "nav_menu": {},
   "number_sections": true,
   "sideBar": true,
   "skip_h1_title": false,
   "title_cell": "Table of Contents",
   "title_sidebar": "Contents",
   "toc_cell": false,
   "toc_position": {},
   "toc_section_display": true,
   "toc_window_display": false
  }
 },
 "nbformat": 4,
 "nbformat_minor": 4
}
